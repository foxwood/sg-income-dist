{
 "cells": [
  {
   "cell_type": "code",
   "execution_count": 1,
   "metadata": {},
   "outputs": [],
   "source": [
    "import math\n",
    "\n",
    "from bayes_opt import BayesianOptimization\n",
    "import numpy as np\n",
    "import matplotlib.pyplot as plt\n",
    "import pandas as pd\n",
    "import scipy.integrate as integrate\n",
    "from scipy.stats import weibull_min"
   ]
  },
  {
   "cell_type": "markdown",
   "metadata": {},
   "source": [
    "# Data loading"
   ]
  },
  {
   "cell_type": "code",
   "execution_count": 2,
   "metadata": {},
   "outputs": [
    {
     "data": {
      "text/plain": [
       "(10, 4)"
      ]
     },
     "execution_count": 2,
     "metadata": {},
     "output_type": "execute_result"
    }
   ],
   "source": [
    "avg_income = pd.read_csv('../data/average_monthly_household_income.csv')\n",
    "avg_income.shape"
   ]
  },
  {
   "cell_type": "code",
   "execution_count": 3,
   "metadata": {},
   "outputs": [
    {
     "data": {
      "text/html": [
       "<div>\n",
       "<style scoped>\n",
       "    .dataframe tbody tr th:only-of-type {\n",
       "        vertical-align: middle;\n",
       "    }\n",
       "\n",
       "    .dataframe tbody tr th {\n",
       "        vertical-align: top;\n",
       "    }\n",
       "\n",
       "    .dataframe thead th {\n",
       "        text-align: right;\n",
       "    }\n",
       "</style>\n",
       "<table border=\"1\" class=\"dataframe\">\n",
       "  <thead>\n",
       "    <tr style=\"text-align: right;\">\n",
       "      <th></th>\n",
       "      <th>decile</th>\n",
       "      <th>2019</th>\n",
       "      <th>change in 2020</th>\n",
       "      <th>2020</th>\n",
       "    </tr>\n",
       "  </thead>\n",
       "  <tbody>\n",
       "    <tr>\n",
       "      <th>0</th>\n",
       "      <td>1-10</td>\n",
       "      <td>2045</td>\n",
       "      <td>-6.10%</td>\n",
       "      <td>1920.26</td>\n",
       "    </tr>\n",
       "    <tr>\n",
       "      <th>1</th>\n",
       "      <td>11-20</td>\n",
       "      <td>4121</td>\n",
       "      <td>-3.20%</td>\n",
       "      <td>3989.13</td>\n",
       "    </tr>\n",
       "    <tr>\n",
       "      <th>2</th>\n",
       "      <td>21-30</td>\n",
       "      <td>5893</td>\n",
       "      <td>-2.20%</td>\n",
       "      <td>5763.35</td>\n",
       "    </tr>\n",
       "    <tr>\n",
       "      <th>3</th>\n",
       "      <td>31-40</td>\n",
       "      <td>7788</td>\n",
       "      <td>-2.00%</td>\n",
       "      <td>7632.24</td>\n",
       "    </tr>\n",
       "    <tr>\n",
       "      <th>4</th>\n",
       "      <td>41-50</td>\n",
       "      <td>9829</td>\n",
       "      <td>-1.50%</td>\n",
       "      <td>9681.57</td>\n",
       "    </tr>\n",
       "  </tbody>\n",
       "</table>\n",
       "</div>"
      ],
      "text/plain": [
       "  decile  2019 change in 2020     2020\n",
       "0   1-10  2045         -6.10%  1920.26\n",
       "1  11-20  4121         -3.20%  3989.13\n",
       "2  21-30  5893         -2.20%  5763.35\n",
       "3  31-40  7788         -2.00%  7632.24\n",
       "4  41-50  9829         -1.50%  9681.57"
      ]
     },
     "execution_count": 3,
     "metadata": {},
     "output_type": "execute_result"
    }
   ],
   "source": [
    "avg_income.head()"
   ]
  },
  {
   "cell_type": "markdown",
   "metadata": {},
   "source": [
    "# L1 loss as goodness-of-fit measure"
   ]
  },
  {
   "cell_type": "code",
   "execution_count": 4,
   "metadata": {},
   "outputs": [],
   "source": [
    "def objective(c, scale):\n",
    "    return -l1_loss(avg_income['2020'], c, scale)\n",
    "    \n",
    "    \n",
    "def l1_loss(data, c, scale):\n",
    "    data = np.asarray(data)\n",
    "    \n",
    "    # data must be a 1x10 vector, with the i-th element being \n",
    "    # the average income of the i-th decile of the population\n",
    "    assert data.size == 10\n",
    "    \n",
    "    # scale down the data and parameter for robust numerical behaviour\n",
    "    factor = 10 ** math.floor(math.log10(data.max()))\n",
    "    \n",
    "    decile_avgs = weibull_decile_averages(c, scale/factor) * factor\n",
    "\n",
    "    # calculate and return L1 loss\n",
    "    return np.linalg.norm(data-decile_avgs, 1)\n",
    "\n",
    "\n",
    "def weibull_decile_averages(c, scale):\n",
    "    # find the deciles of the Weibull\n",
    "    deciles = weibull_min.ppf(np.linspace(0, 1, 11), c, scale=scale)\n",
    "    \n",
    "    # calculate and return the average for each decile using numerical integration\n",
    "    return np.array([\n",
    "        integrate.quad(\n",
    "            lambda x: x * weibull_min.pdf(x, c, scale=scale), \n",
    "            deciles[i], \n",
    "            deciles[i+1]\n",
    "        )[0] / .1\n",
    "        for i in range(deciles.size-1)\n",
    "    ])"
   ]
  },
  {
   "cell_type": "markdown",
   "metadata": {},
   "source": [
    "# Parameter optimization"
   ]
  },
  {
   "cell_type": "code",
   "execution_count": 5,
   "metadata": {
    "scrolled": true
   },
   "outputs": [
    {
     "name": "stdout",
     "output_type": "stream",
     "text": [
      "|   iter    |  target   |     c     |   scale   |\n",
      "-------------------------------------------------\n",
      "| \u001b[0m 1       \u001b[0m | \u001b[0m-3.765e+0\u001b[0m | \u001b[0m 1.425   \u001b[0m | \u001b[0m 1.304e+0\u001b[0m |\n",
      "| \u001b[0m 2       \u001b[0m | \u001b[0m-2.785e+0\u001b[0m | \u001b[0m 1.3     \u001b[0m | \u001b[0m 1.012e+0\u001b[0m |\n",
      "| \u001b[0m 3       \u001b[0m | \u001b[0m-4.193e+0\u001b[0m | \u001b[0m 1.344   \u001b[0m | \u001b[0m 8.646e+0\u001b[0m |\n",
      "| \u001b[0m 4       \u001b[0m | \u001b[0m-2.581e+0\u001b[0m | \u001b[0m 1.356   \u001b[0m | \u001b[0m 1.042e+0\u001b[0m |\n",
      "| \u001b[0m 5       \u001b[0m | \u001b[0m-1.421e+0\u001b[0m | \u001b[0m 1.419   \u001b[0m | \u001b[0m 1.177e+0\u001b[0m |\n",
      "| \u001b[0m 6       \u001b[0m | \u001b[0m-5.223e+0\u001b[0m | \u001b[0m 1.426   \u001b[0m | \u001b[0m 1.28e+04\u001b[0m |\n",
      "| \u001b[0m 7       \u001b[0m | \u001b[0m-9.768e+0\u001b[0m | \u001b[0m 1.361   \u001b[0m | \u001b[0m 1.415e+0\u001b[0m |\n",
      "| \u001b[0m 8       \u001b[0m | \u001b[0m-7.488e+0\u001b[0m | \u001b[0m 1.308   \u001b[0m | \u001b[0m 1.269e+0\u001b[0m |\n",
      "| \u001b[0m 9       \u001b[0m | \u001b[0m-1.302e+0\u001b[0m | \u001b[0m 1.425   \u001b[0m | \u001b[0m 1.191e+0\u001b[0m |\n",
      "| \u001b[0m 10      \u001b[0m | \u001b[0m-3.511e+0\u001b[0m | \u001b[0m 1.342   \u001b[0m | \u001b[0m 9.387e+0\u001b[0m |\n",
      "| \u001b[0m 11      \u001b[0m | \u001b[0m-1.172e+0\u001b[0m | \u001b[0m 1.54    \u001b[0m | \u001b[0m 1.478e+0\u001b[0m |\n",
      "| \u001b[0m 12      \u001b[0m | \u001b[0m-4.948e+0\u001b[0m | \u001b[0m 1.394   \u001b[0m | \u001b[0m 1.285e+0\u001b[0m |\n",
      "| \u001b[0m 13      \u001b[0m | \u001b[0m-7.306e+0\u001b[0m | \u001b[0m 1.563   \u001b[0m | \u001b[0m 1.426e+0\u001b[0m |\n",
      "| \u001b[0m 14      \u001b[0m | \u001b[0m-4.516e+0\u001b[0m | \u001b[0m 1.326   \u001b[0m | \u001b[0m 8.273e+0\u001b[0m |\n",
      "| \u001b[0m 15      \u001b[0m | \u001b[0m-1.023e+0\u001b[0m | \u001b[0m 1.351   \u001b[0m | \u001b[0m 1.415e+0\u001b[0m |\n",
      "| \u001b[0m 16      \u001b[0m | \u001b[0m-2.061e+0\u001b[0m | \u001b[0m 1.33    \u001b[0m | \u001b[0m 1.095e+0\u001b[0m |\n",
      "| \u001b[0m 17      \u001b[0m | \u001b[0m-1.601e+0\u001b[0m | \u001b[0m 1.587   \u001b[0m | \u001b[0m 1.173e+0\u001b[0m |\n",
      "| \u001b[0m 18      \u001b[0m | \u001b[0m-2.918e+0\u001b[0m | \u001b[0m 1.508   \u001b[0m | \u001b[0m 1.021e+0\u001b[0m |\n",
      "| \u001b[0m 19      \u001b[0m | \u001b[0m-4.244e+0\u001b[0m | \u001b[0m 1.506   \u001b[0m | \u001b[0m 1.384e+0\u001b[0m |\n",
      "| \u001b[0m 20      \u001b[0m | \u001b[0m-8.476e+0\u001b[0m | \u001b[0m 1.305   \u001b[0m | \u001b[0m 1.325e+0\u001b[0m |\n",
      "| \u001b[0m 21      \u001b[0m | \u001b[0m-4.117e+0\u001b[0m | \u001b[0m 1.597   \u001b[0m | \u001b[0m 1.324e+0\u001b[0m |\n",
      "| \u001b[0m 22      \u001b[0m | \u001b[0m-5.533e+0\u001b[0m | \u001b[0m 1.384   \u001b[0m | \u001b[0m 1.352e+0\u001b[0m |\n",
      "| \u001b[0m 23      \u001b[0m | \u001b[0m-1.891e+0\u001b[0m | \u001b[0m 1.331   \u001b[0m | \u001b[0m 1.114e+0\u001b[0m |\n",
      "| \u001b[0m 24      \u001b[0m | \u001b[0m-3.098e+0\u001b[0m | \u001b[0m 1.573   \u001b[0m | \u001b[0m 1.006e+0\u001b[0m |\n",
      "| \u001b[0m 25      \u001b[0m | \u001b[0m-3.994e+0\u001b[0m | \u001b[0m 1.386   \u001b[0m | \u001b[0m 8.91e+03\u001b[0m |\n",
      "| \u001b[0m 26      \u001b[0m | \u001b[0m-7.534e+0\u001b[0m | \u001b[0m 1.306   \u001b[0m | \u001b[0m 1.275e+0\u001b[0m |\n",
      "| \u001b[0m 27      \u001b[0m | \u001b[0m-3.103e+0\u001b[0m | \u001b[0m 1.363   \u001b[0m | \u001b[0m 9.859e+0\u001b[0m |\n",
      "| \u001b[0m 28      \u001b[0m | \u001b[0m-4.534e+0\u001b[0m | \u001b[0m 1.447   \u001b[0m | \u001b[0m 8.374e+0\u001b[0m |\n",
      "| \u001b[0m 29      \u001b[0m | \u001b[0m-3.96e+04\u001b[0m | \u001b[0m 1.472   \u001b[0m | \u001b[0m 9.027e+0\u001b[0m |\n",
      "| \u001b[0m 30      \u001b[0m | \u001b[0m-4.614e+0\u001b[0m | \u001b[0m 1.477   \u001b[0m | \u001b[0m 1.29e+04\u001b[0m |\n",
      "| \u001b[0m 31      \u001b[0m | \u001b[0m-2.108e+0\u001b[0m | \u001b[0m 1.331   \u001b[0m | \u001b[0m 1.09e+04\u001b[0m |\n",
      "| \u001b[0m 32      \u001b[0m | \u001b[0m-2.295e+0\u001b[0m | \u001b[0m 1.508   \u001b[0m | \u001b[0m 1.09e+04\u001b[0m |\n",
      "| \u001b[0m 33      \u001b[0m | \u001b[0m-1.299e+0\u001b[0m | \u001b[0m 1.315   \u001b[0m | \u001b[0m 1.175e+0\u001b[0m |\n",
      "| \u001b[0m 34      \u001b[0m | \u001b[0m-1.652e+0\u001b[0m | \u001b[0m 1.499   \u001b[0m | \u001b[0m 1.16e+04\u001b[0m |\n",
      "| \u001b[0m 35      \u001b[0m | \u001b[0m-1.263e+0\u001b[0m | \u001b[0m 1.583   \u001b[0m | \u001b[0m 1.211e+0\u001b[0m |\n",
      "| \u001b[0m 36      \u001b[0m | \u001b[0m-4.079e+0\u001b[0m | \u001b[0m 1.571   \u001b[0m | \u001b[0m 8.962e+0\u001b[0m |\n",
      "| \u001b[0m 37      \u001b[0m | \u001b[0m-8.092e+0\u001b[0m | \u001b[0m 1.342   \u001b[0m | \u001b[0m 1.365e+0\u001b[0m |\n",
      "| \u001b[0m 38      \u001b[0m | \u001b[0m-3.799e+0\u001b[0m | \u001b[0m 1.419   \u001b[0m | \u001b[0m 9.157e+0\u001b[0m |\n",
      "| \u001b[0m 39      \u001b[0m | \u001b[0m-2.761e+0\u001b[0m | \u001b[0m 1.578   \u001b[0m | \u001b[0m 1.043e+0\u001b[0m |\n",
      "| \u001b[95m 40      \u001b[0m | \u001b[95m-3.443e+0\u001b[0m | \u001b[95m 1.525   \u001b[0m | \u001b[95m 1.308e+0\u001b[0m |\n",
      "| \u001b[0m 41      \u001b[0m | \u001b[0m-1.017e+0\u001b[0m | \u001b[0m 1.565   \u001b[0m | \u001b[0m 1.237e+0\u001b[0m |\n",
      "| \u001b[0m 42      \u001b[0m | \u001b[0m-2.72e+04\u001b[0m | \u001b[0m 1.525   \u001b[0m | \u001b[0m 1.044e+0\u001b[0m |\n",
      "| \u001b[0m 43      \u001b[0m | \u001b[0m-1.005e+0\u001b[0m | \u001b[0m 1.381   \u001b[0m | \u001b[0m 1.427e+0\u001b[0m |\n",
      "| \u001b[0m 44      \u001b[0m | \u001b[0m-1.308e+0\u001b[0m | \u001b[0m 1.428   \u001b[0m | \u001b[0m 1.475e+0\u001b[0m |\n",
      "| \u001b[0m 45      \u001b[0m | \u001b[0m-9.765e+0\u001b[0m | \u001b[0m 1.499   \u001b[0m | \u001b[0m 1.235e+0\u001b[0m |\n",
      "| \u001b[0m 46      \u001b[0m | \u001b[0m-1.459e+0\u001b[0m | \u001b[0m 1.334   \u001b[0m | \u001b[0m 1.465e+0\u001b[0m |\n",
      "| \u001b[0m 47      \u001b[0m | \u001b[0m-1.187e+0\u001b[0m | \u001b[0m 1.435   \u001b[0m | \u001b[0m 1.205e+0\u001b[0m |\n",
      "| \u001b[0m 48      \u001b[0m | \u001b[0m-3.346e+0\u001b[0m | \u001b[0m 1.422   \u001b[0m | \u001b[0m 9.659e+0\u001b[0m |\n",
      "| \u001b[0m 49      \u001b[0m | \u001b[0m-1.336e+0\u001b[0m | \u001b[0m 1.571   \u001b[0m | \u001b[0m 1.202e+0\u001b[0m |\n",
      "| \u001b[0m 50      \u001b[0m | \u001b[0m-8.165e+0\u001b[0m | \u001b[0m 1.301   \u001b[0m | \u001b[0m 1.232e+0\u001b[0m |\n",
      "| \u001b[0m 51      \u001b[0m | \u001b[0m-9.306e+0\u001b[0m | \u001b[0m 1.371   \u001b[0m | \u001b[0m 1.413e+0\u001b[0m |\n",
      "| \u001b[0m 52      \u001b[0m | \u001b[0m-5.751e+0\u001b[0m | \u001b[0m 1.35    \u001b[0m | \u001b[0m 1.307e+0\u001b[0m |\n",
      "| \u001b[0m 53      \u001b[0m | \u001b[0m-5.55e+03\u001b[0m | \u001b[0m 1.463   \u001b[0m | \u001b[0m 1.278e+0\u001b[0m |\n",
      "| \u001b[0m 54      \u001b[0m | \u001b[0m-4.718e+0\u001b[0m | \u001b[0m 1.424   \u001b[0m | \u001b[0m 1.288e+0\u001b[0m |\n",
      "| \u001b[0m 55      \u001b[0m | \u001b[0m-5.004e+0\u001b[0m | \u001b[0m 1.484   \u001b[0m | \u001b[0m 1.286e+0\u001b[0m |\n",
      "| \u001b[0m 56      \u001b[0m | \u001b[0m-4.891e+0\u001b[0m | \u001b[0m 1.546   \u001b[0m | \u001b[0m 1.383e+0\u001b[0m |\n",
      "| \u001b[0m 57      \u001b[0m | \u001b[0m-5.694e+0\u001b[0m | \u001b[0m 1.518   \u001b[0m | \u001b[0m 1.282e+0\u001b[0m |\n",
      "| \u001b[0m 58      \u001b[0m | \u001b[0m-2.125e+0\u001b[0m | \u001b[0m 1.327   \u001b[0m | \u001b[0m 1.088e+0\u001b[0m |\n",
      "| \u001b[0m 59      \u001b[0m | \u001b[0m-5.453e+0\u001b[0m | \u001b[0m 1.355   \u001b[0m | \u001b[0m 1.302e+0\u001b[0m |\n",
      "| \u001b[0m 60      \u001b[0m | \u001b[0m-6.553e+0\u001b[0m | \u001b[0m 1.334   \u001b[0m | \u001b[0m 1.31e+04\u001b[0m |\n",
      "| \u001b[0m 61      \u001b[0m | \u001b[0m-7.221e+0\u001b[0m | \u001b[0m 1.328   \u001b[0m | \u001b[0m 1.322e+0\u001b[0m |\n",
      "| \u001b[0m 62      \u001b[0m | \u001b[0m-7.364e+0\u001b[0m | \u001b[0m 1.348   \u001b[0m | \u001b[0m 1.354e+0\u001b[0m |\n",
      "| \u001b[0m 63      \u001b[0m | \u001b[0m-7.312e+0\u001b[0m | \u001b[0m 1.312   \u001b[0m | \u001b[0m 1.272e+0\u001b[0m |\n",
      "| \u001b[0m 64      \u001b[0m | \u001b[0m-5.081e+0\u001b[0m | \u001b[0m 1.443   \u001b[0m | \u001b[0m 1.386e+0\u001b[0m |\n",
      "| \u001b[0m 65      \u001b[0m | \u001b[0m-7.364e+0\u001b[0m | \u001b[0m 1.383   \u001b[0m | \u001b[0m 1.389e+0\u001b[0m |\n",
      "| \u001b[0m 66      \u001b[0m | \u001b[0m-4.532e+0\u001b[0m | \u001b[0m 1.489   \u001b[0m | \u001b[0m 1.292e+0\u001b[0m |\n",
      "| \u001b[0m 67      \u001b[0m | \u001b[0m-7.132e+0\u001b[0m | \u001b[0m 1.318   \u001b[0m | \u001b[0m 1.294e+0\u001b[0m |\n",
      "| \u001b[0m 68      \u001b[0m | \u001b[0m-3.58e+03\u001b[0m | \u001b[0m 1.556   \u001b[0m | \u001b[0m 1.35e+04\u001b[0m |\n",
      "| \u001b[95m 69      \u001b[0m | \u001b[95m-3.241e+0\u001b[0m | \u001b[95m 1.537   \u001b[0m | \u001b[95m 1.348e+0\u001b[0m |\n",
      "| \u001b[0m 70      \u001b[0m | \u001b[0m-9.533e+0\u001b[0m | \u001b[0m 1.3     \u001b[0m | \u001b[0m 1.346e+0\u001b[0m |\n",
      "| \u001b[0m 71      \u001b[0m | \u001b[0m-5.19e+03\u001b[0m | \u001b[0m 1.566   \u001b[0m | \u001b[0m 1.38e+04\u001b[0m |\n",
      "| \u001b[0m 72      \u001b[0m | \u001b[0m-3.69e+03\u001b[0m | \u001b[0m 1.49    \u001b[0m | \u001b[0m 1.378e+0\u001b[0m |\n",
      "| \u001b[0m 73      \u001b[0m | \u001b[0m-4.436e+0\u001b[0m | \u001b[0m 1.539   \u001b[0m | \u001b[0m 1.376e+0\u001b[0m |\n",
      "| \u001b[0m 74      \u001b[0m | \u001b[0m-7.592e+0\u001b[0m | \u001b[0m 1.361   \u001b[0m | \u001b[0m 1.373e+0\u001b[0m |\n",
      "| \u001b[0m 75      \u001b[0m | \u001b[0m-1.331e+0\u001b[0m | \u001b[0m 1.3     \u001b[0m | \u001b[0m 1.424e+0\u001b[0m |\n",
      "| \u001b[0m 76      \u001b[0m | \u001b[0m-4.476e+0\u001b[0m | \u001b[0m 1.547   \u001b[0m | \u001b[0m 1.3e+04 \u001b[0m |\n",
      "| \u001b[0m 77      \u001b[0m | \u001b[0m-4.203e+0\u001b[0m | \u001b[0m 1.382   \u001b[0m | \u001b[0m 1.297e+0\u001b[0m |\n",
      "| \u001b[95m 78      \u001b[0m | \u001b[95m-3.19e+03\u001b[0m | \u001b[95m 1.463   \u001b[0m | \u001b[95m 1.368e+0\u001b[0m |\n",
      "| \u001b[0m 79      \u001b[0m | \u001b[0m-4.504e+0\u001b[0m | \u001b[0m 1.555   \u001b[0m | \u001b[0m 1.37e+04\u001b[0m |\n",
      "| \u001b[0m 80      \u001b[0m | \u001b[0m-7.869e+0\u001b[0m | \u001b[0m 1.595   \u001b[0m | \u001b[0m 1.266e+0\u001b[0m |\n",
      "| \u001b[0m 81      \u001b[0m | \u001b[0m-1.108e+0\u001b[0m | \u001b[0m 1.6     \u001b[0m | \u001b[0m 1.229e+0\u001b[0m |\n",
      "| \u001b[0m 82      \u001b[0m | \u001b[0m-6.197e+0\u001b[0m | \u001b[0m 1.357   \u001b[0m | \u001b[0m 1.264e+0\u001b[0m |\n",
      "| \u001b[0m 83      \u001b[0m | \u001b[0m-8.37e+03\u001b[0m | \u001b[0m 1.6     \u001b[0m | \u001b[0m 1.261e+0\u001b[0m |\n",
      "| \u001b[0m 84      \u001b[0m | \u001b[0m-7.123e+0\u001b[0m | \u001b[0m 1.392   \u001b[0m | \u001b[0m 1.392e+0\u001b[0m |\n",
      "| \u001b[0m 85      \u001b[0m | \u001b[0m-6.566e+0\u001b[0m | \u001b[0m 1.6     \u001b[0m | \u001b[0m 1.394e+0\u001b[0m |\n",
      "| \u001b[0m 86      \u001b[0m | \u001b[0m-7.842e+0\u001b[0m | \u001b[0m 1.382   \u001b[0m | \u001b[0m 1.397e+0\u001b[0m |\n",
      "| \u001b[0m 87      \u001b[0m | \u001b[0m-6.838e+0\u001b[0m | \u001b[0m 1.6     \u001b[0m | \u001b[0m 1.4e+04 \u001b[0m |\n",
      "| \u001b[0m 88      \u001b[0m | \u001b[0m-6.864e+0\u001b[0m | \u001b[0m 1.425   \u001b[0m | \u001b[0m 1.403e+0\u001b[0m |\n",
      "| \u001b[0m 89      \u001b[0m | \u001b[0m-5.739e+0\u001b[0m | \u001b[0m 1.5     \u001b[0m | \u001b[0m 1.406e+0\u001b[0m |\n",
      "| \u001b[0m 90      \u001b[0m | \u001b[0m-7.048e+0\u001b[0m | \u001b[0m 1.592   \u001b[0m | \u001b[0m 1.408e+0\u001b[0m |\n",
      "| \u001b[0m 91      \u001b[0m | \u001b[0m-5.533e+0\u001b[0m | \u001b[0m 1.389   \u001b[0m | \u001b[0m 1.358e+0\u001b[0m |\n",
      "| \u001b[0m 92      \u001b[0m | \u001b[0m-4.072e+0\u001b[0m | \u001b[0m 1.426   \u001b[0m | \u001b[0m 1.36e+04\u001b[0m |\n",
      "| \u001b[0m 93      \u001b[0m | \u001b[0m-4.295e+0\u001b[0m | \u001b[0m 1.423   \u001b[0m | \u001b[0m 1.362e+0\u001b[0m |\n",
      "| \u001b[0m 94      \u001b[0m | \u001b[0m-4.955e+0\u001b[0m | \u001b[0m 1.369   \u001b[0m | \u001b[0m 1.313e+0\u001b[0m |\n",
      "| \u001b[95m 95      \u001b[0m | \u001b[95m-2.999e+0\u001b[0m | \u001b[95m 1.525   \u001b[0m | \u001b[95m 1.316e+0\u001b[0m |\n",
      "| \u001b[0m 96      \u001b[0m | \u001b[0m-3.218e+0\u001b[0m | \u001b[0m 1.425   \u001b[0m | \u001b[0m 1.318e+0\u001b[0m |\n",
      "| \u001b[0m 97      \u001b[0m | \u001b[0m-6.557e+0\u001b[0m | \u001b[0m 1.387   \u001b[0m | \u001b[0m 1.258e+0\u001b[0m |\n",
      "| \u001b[0m 98      \u001b[0m | \u001b[0m-6.723e+0\u001b[0m | \u001b[0m 1.368   \u001b[0m | \u001b[0m 1.255e+0\u001b[0m |\n",
      "| \u001b[0m 99      \u001b[0m | \u001b[0m-7.983e+0\u001b[0m | \u001b[0m 1.301   \u001b[0m | \u001b[0m 1.252e+0\u001b[0m |\n"
     ]
    },
    {
     "name": "stdout",
     "output_type": "stream",
     "text": [
      "| \u001b[0m 100     \u001b[0m | \u001b[0m-7.45e+03\u001b[0m | \u001b[0m 1.314   \u001b[0m | \u001b[0m 1.249e+0\u001b[0m |\n",
      "| \u001b[0m 101     \u001b[0m | \u001b[0m-7.256e+0\u001b[0m | \u001b[0m 1.354   \u001b[0m | \u001b[0m 1.246e+0\u001b[0m |\n",
      "| \u001b[0m 102     \u001b[0m | \u001b[0m-8.05e+03\u001b[0m | \u001b[0m 1.301   \u001b[0m | \u001b[0m 1.243e+0\u001b[0m |\n",
      "| \u001b[0m 103     \u001b[0m | \u001b[0m-8.265e+0\u001b[0m | \u001b[0m 1.399   \u001b[0m | \u001b[0m 1.24e+04\u001b[0m |\n",
      "| \u001b[95m 104     \u001b[0m | \u001b[95m-2.526e+0\u001b[0m | \u001b[95m 1.483   \u001b[0m | \u001b[95m 1.341e+0\u001b[0m |\n",
      "| \u001b[0m 105     \u001b[0m | \u001b[0m-5.52e+03\u001b[0m | \u001b[0m 1.375   \u001b[0m | \u001b[0m 1.339e+0\u001b[0m |\n",
      "| \u001b[0m 106     \u001b[0m | \u001b[0m-2.786e+0\u001b[0m | \u001b[0m 1.438   \u001b[0m | \u001b[0m 1.343e+0\u001b[0m |\n",
      "| \u001b[0m 107     \u001b[0m | \u001b[0m-3.916e+0\u001b[0m | \u001b[0m 1.6     \u001b[0m | \u001b[0m 1.336e+0\u001b[0m |\n",
      "| \u001b[0m 108     \u001b[0m | \u001b[0m-6.457e+0\u001b[0m | \u001b[0m 1.351   \u001b[0m | \u001b[0m 1.334e+0\u001b[0m |\n",
      "| \u001b[0m 109     \u001b[0m | \u001b[0m-6.325e+0\u001b[0m | \u001b[0m 1.352   \u001b[0m | \u001b[0m 1.331e+0\u001b[0m |\n",
      "| \u001b[0m 110     \u001b[0m | \u001b[0m-3.742e+0\u001b[0m | \u001b[0m 1.405   \u001b[0m | \u001b[0m 1.328e+0\u001b[0m |\n",
      "| \u001b[0m 111     \u001b[0m | \u001b[0m-1.297e+0\u001b[0m | \u001b[0m 1.473   \u001b[0m | \u001b[0m 1.483e+0\u001b[0m |\n",
      "| \u001b[0m 112     \u001b[0m | \u001b[0m-1.14e+04\u001b[0m | \u001b[0m 1.572   \u001b[0m | \u001b[0m 1.223e+0\u001b[0m |\n",
      "| \u001b[0m 113     \u001b[0m | \u001b[0m-1.107e+0\u001b[0m | \u001b[0m 1.476   \u001b[0m | \u001b[0m 1.218e+0\u001b[0m |\n",
      "| \u001b[0m 114     \u001b[0m | \u001b[0m-4.739e+0\u001b[0m | \u001b[0m 1.3     \u001b[0m | \u001b[0m 8e+03   \u001b[0m |\n",
      "| \u001b[0m 115     \u001b[0m | \u001b[0m-1.875e+0\u001b[0m | \u001b[0m 1.514   \u001b[0m | \u001b[0m 1.137e+0\u001b[0m |\n",
      "| \u001b[0m 116     \u001b[0m | \u001b[0m-2.473e+0\u001b[0m | \u001b[0m 1.459   \u001b[0m | \u001b[0m 1.066e+0\u001b[0m |\n",
      "| \u001b[0m 117     \u001b[0m | \u001b[0m-1.056e+0\u001b[0m | \u001b[0m 1.423   \u001b[0m | \u001b[0m 1.446e+0\u001b[0m |\n",
      "| \u001b[0m 118     \u001b[0m | \u001b[0m-9.491e+0\u001b[0m | \u001b[0m 1.513   \u001b[0m | \u001b[0m 1.45e+04\u001b[0m |\n",
      "| \u001b[0m 119     \u001b[0m | \u001b[0m-1.01e+04\u001b[0m | \u001b[0m 1.491   \u001b[0m | \u001b[0m 1.454e+0\u001b[0m |\n",
      "| \u001b[0m 120     \u001b[0m | \u001b[0m-1.008e+0\u001b[0m | \u001b[0m 1.524   \u001b[0m | \u001b[0m 1.458e+0\u001b[0m |\n",
      "| \u001b[0m 121     \u001b[0m | \u001b[0m-1.321e+0\u001b[0m | \u001b[0m 1.324   \u001b[0m | \u001b[0m 1.442e+0\u001b[0m |\n",
      "| \u001b[0m 122     \u001b[0m | \u001b[0m-1.873e+0\u001b[0m | \u001b[0m 1.3     \u001b[0m | \u001b[0m 1.5e+04 \u001b[0m |\n",
      "| \u001b[0m 123     \u001b[0m | \u001b[0m-3.501e+0\u001b[0m | \u001b[0m 1.459   \u001b[0m | \u001b[0m 9.523e+0\u001b[0m |\n",
      "| \u001b[0m 124     \u001b[0m | \u001b[0m-4.489e+0\u001b[0m | \u001b[0m 1.58    \u001b[0m | \u001b[0m 8.511e+0\u001b[0m |\n",
      "| \u001b[0m 125     \u001b[0m | \u001b[0m-4.767e+0\u001b[0m | \u001b[0m 1.476   \u001b[0m | \u001b[0m 8.137e+0\u001b[0m |\n",
      "| \u001b[0m 126     \u001b[0m | \u001b[0m-1.578e+0\u001b[0m | \u001b[0m 1.34    \u001b[0m | \u001b[0m 1.149e+0\u001b[0m |\n",
      "| \u001b[0m 127     \u001b[0m | \u001b[0m-1.916e+0\u001b[0m | \u001b[0m 1.442   \u001b[0m | \u001b[0m 1.125e+0\u001b[0m |\n",
      "| \u001b[0m 128     \u001b[0m | \u001b[0m-4.182e+0\u001b[0m | \u001b[0m 1.467   \u001b[0m | \u001b[0m 8.778e+0\u001b[0m |\n",
      "| \u001b[0m 129     \u001b[0m | \u001b[0m-1.662e+0\u001b[0m | \u001b[0m 1.337   \u001b[0m | \u001b[0m 1.49e+04\u001b[0m |\n",
      "| \u001b[0m 130     \u001b[0m | \u001b[0m-2.41e+04\u001b[0m | \u001b[0m 1.318   \u001b[0m | \u001b[0m 1.055e+0\u001b[0m |\n",
      "| \u001b[0m 131     \u001b[0m | \u001b[0m-1.454e+0\u001b[0m | \u001b[0m 1.531   \u001b[0m | \u001b[0m 1.185e+0\u001b[0m |\n",
      "| \u001b[0m 132     \u001b[0m | \u001b[0m-3.636e+0\u001b[0m | \u001b[0m 1.36    \u001b[0m | \u001b[0m 9.273e+0\u001b[0m |\n",
      "| \u001b[0m 133     \u001b[0m | \u001b[0m-2.251e+0\u001b[0m | \u001b[0m 1.346   \u001b[0m | \u001b[0m 1.077e+0\u001b[0m |\n",
      "| \u001b[0m 134     \u001b[0m | \u001b[0m-8.525e+0\u001b[0m | \u001b[0m 1.6     \u001b[0m | \u001b[0m 1.435e+0\u001b[0m |\n",
      "| \u001b[0m 135     \u001b[0m | \u001b[0m-8.366e+0\u001b[0m | \u001b[0m 1.6     \u001b[0m | \u001b[0m 1.432e+0\u001b[0m |\n",
      "| \u001b[0m 136     \u001b[0m | \u001b[0m-2.702e+0\u001b[0m | \u001b[0m 1.378   \u001b[0m | \u001b[0m 1.032e+0\u001b[0m |\n",
      "| \u001b[0m 137     \u001b[0m | \u001b[0m-2.205e+0\u001b[0m | \u001b[0m 1.561   \u001b[0m | \u001b[0m 1.104e+0\u001b[0m |\n",
      "| \u001b[0m 138     \u001b[0m | \u001b[0m-1.199e+0\u001b[0m | \u001b[0m 1.378   \u001b[0m | \u001b[0m 1.196e+0\u001b[0m |\n",
      "| \u001b[0m 139     \u001b[0m | \u001b[0m-3.368e+0\u001b[0m | \u001b[0m 1.582   \u001b[0m | \u001b[0m 9.76e+03\u001b[0m |\n",
      "| \u001b[0m 140     \u001b[0m | \u001b[0m-2.932e+0\u001b[0m | \u001b[0m 1.3     \u001b[0m | \u001b[0m 9.957e+0\u001b[0m |\n",
      "| \u001b[0m 141     \u001b[0m | \u001b[0m-9.672e+0\u001b[0m | \u001b[0m 1.335   \u001b[0m | \u001b[0m 1.215e+0\u001b[0m |\n",
      "| \u001b[0m 142     \u001b[0m | \u001b[0m-1.439e+0\u001b[0m | \u001b[0m 1.356   \u001b[0m | \u001b[0m 1.47e+04\u001b[0m |\n",
      "| \u001b[0m 143     \u001b[0m | \u001b[0m-1.659e+0\u001b[0m | \u001b[0m 1.585   \u001b[0m | \u001b[0m 1.167e+0\u001b[0m |\n",
      "| \u001b[0m 144     \u001b[0m | \u001b[0m-1.653e+0\u001b[0m | \u001b[0m 1.444   \u001b[0m | \u001b[0m 1.155e+0\u001b[0m |\n",
      "| \u001b[0m 145     \u001b[0m | \u001b[0m-1.73e+04\u001b[0m | \u001b[0m 1.421   \u001b[0m | \u001b[0m 1.143e+0\u001b[0m |\n",
      "| \u001b[0m 146     \u001b[0m | \u001b[0m-2.004e+0\u001b[0m | \u001b[0m 1.477   \u001b[0m | \u001b[0m 1.119e+0\u001b[0m |\n",
      "| \u001b[0m 147     \u001b[0m | \u001b[0m-1.934e+0\u001b[0m | \u001b[0m 1.523   \u001b[0m | \u001b[0m 1.131e+0\u001b[0m |\n",
      "| \u001b[0m 148     \u001b[0m | \u001b[0m-1.412e+0\u001b[0m | \u001b[0m 1.3     \u001b[0m | \u001b[0m 1.438e+0\u001b[0m |\n",
      "| \u001b[0m 149     \u001b[0m | \u001b[0m-1.637e+0\u001b[0m | \u001b[0m 1.359   \u001b[0m | \u001b[0m 1.495e+0\u001b[0m |\n",
      "| \u001b[0m 150     \u001b[0m | \u001b[0m-1.15e+04\u001b[0m | \u001b[0m 1.444   \u001b[0m | \u001b[0m 1.461e+0\u001b[0m |\n",
      "=================================================\n"
     ]
    }
   ],
   "source": [
    "pbounds = {'c': (1.3, 1.6), 'scale': (8000, 15000)}\n",
    "\n",
    "optimizer = BayesianOptimization(\n",
    "    f=objective,\n",
    "    pbounds=pbounds,\n",
    "    random_state=1,\n",
    ")\n",
    "\n",
    "optimizer.maximize(init_points=50, n_iter=100)"
   ]
  },
  {
   "cell_type": "code",
   "execution_count": 6,
   "metadata": {},
   "outputs": [
    {
     "data": {
      "text/plain": [
       "{'target': -2525.553069308382,\n",
       " 'params': {'c': 1.4833529084389592, 'scale': 13412.725749927627}}"
      ]
     },
     "execution_count": 6,
     "metadata": {},
     "output_type": "execute_result"
    }
   ],
   "source": [
    "optimizer.max"
   ]
  },
  {
   "cell_type": "code",
   "execution_count": 7,
   "metadata": {},
   "outputs": [
    {
     "data": {
      "image/png": "[encoded data removed]",
      "text/plain": [
       "<Figure size 432x288 with 1 Axes>"
      ]
     },
     "metadata": {
      "needs_background": "light"
     },
     "output_type": "display_data"
    }
   ],
   "source": [
    "plt.bar(range(10), avg_income['2020'], alpha=0.5)\n",
    "plt.bar(range(10), \n",
    "        weibull_decile_averages(optimizer.max['params']['c'], scale=optimizer.max['params']['scale']),\n",
    "        alpha=0.5)\n",
    "plt.legend(['data', 'model'])\n",
    "plt.grid(axis='y')\n",
    "plt.show()"
   ]
  },
  {
   "cell_type": "markdown",
   "metadata": {},
   "source": [
    "# Income at 95% percentile"
   ]
  },
  {
   "cell_type": "code",
   "execution_count": 8,
   "metadata": {},
   "outputs": [
    {
     "data": {
      "text/plain": [
       "28102.876944726282"
      ]
     },
     "execution_count": 8,
     "metadata": {},
     "output_type": "execute_result"
    }
   ],
   "source": [
    "weibull_min.ppf(.95, optimizer.max['params']['c'], scale=optimizer.max['params']['scale'])"
   ]
  },
  {
   "cell_type": "code",
   "execution_count": null,
   "metadata": {},
   "outputs": [],
   "source": []
  }
 ],
 "metadata": {
  "kernelspec": {
   "display_name": "Python 3",
   "language": "python",
   "name": "python3"
  },
  "language_info": {
   "codemirror_mode": {
    "name": "ipython",
    "version": 3
   },
   "file_extension": ".py",
   "mimetype": "text/x-python",
   "name": "python",
   "nbconvert_exporter": "python",
   "pygments_lexer": "ipython3",
   "version": "3.7.7"
  }
 },
 "nbformat": 4,
 "nbformat_minor": 4
}
